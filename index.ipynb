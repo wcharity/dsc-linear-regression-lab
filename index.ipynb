{
 "cells": [
  {
   "cell_type": "markdown",
   "metadata": {},
   "source": [
    "# Linear Regression - Cumulative Lab\n",
    "\n",
    "## Introduction \n",
    "\n",
    "In this cumulative lab you'll perform a full linear regression analysis and report the findings of your final model, including both predictive model performance metrics and interpretation of fitted model parameters.\n",
    "\n",
    "## Objectives\n",
    "\n",
    "You will be able to:\n",
    "\n",
    "* Perform a full linear regression analysis with iterative model development\n",
    "* Evaluate your final model and interpret its predictive performance metrics\n",
    "* Apply an inferential lens to interpret relationships between variables identified by the model"
   ]
  },
  {
   "cell_type": "markdown",
   "metadata": {},
   "source": [
    "## Your Task: Develop a LEGO Pricing Algorithm\n",
    "\n",
    "![pile of legos](images/legos.jpg)\n",
    "\n",
    "Photo by <a href=\"https://unsplash.com/@xavi_cabrera?utm_source=unsplash&utm_medium=referral&utm_content=creditCopyText\">Xavi Cabrera</a> on <a href=\"/s/photos/lego?utm_source=unsplash&utm_medium=referral&utm_content=creditCopyText\">Unsplash</a>"
   ]
  },
  {
   "cell_type": "markdown",
   "metadata": {},
   "source": [
    "### Business Understanding\n",
    "\n",
    "You just got hired by LEGO! Your first project is going to be to develop a pricing algorithm to help set a target price for new LEGO sets that are released to market. The goal is to save the company some time and to help ensure consistency in pricing between new products and past products.\n",
    "\n",
    "The main purpose of this algorithm is *predictive*, meaning that **your model should be able to take in attributes of a LEGO set that does not yet have a set price, and to predict a good price**. The effectiveness of your predictive model will be measured by how well it predicts prices in our test set, where we know what the actual prices were but the model does not.\n",
    "\n",
    "The secondary purpose of this algorithm is *inferential*, meaning that **your model should be able to tell us something about the relationship between the attributes of a LEGO set and its price**. You will apply your knowledge of statistics to include appropriate caveats about these relationships.\n",
    "\n",
    "### Data Understanding\n",
    "\n",
    "You have access to a dataset containing over 700 LEGO sets released in the past, including attributes of those sets as well as their prices. You can assume that the numeric attributes in this dataset have already been preprocessed appropriately for modeling (i.e. that there are no missing or invalid values), while the text attributes are simply there for your visual inspection and should not be used for modeling. Also, note that some of these attributes cannot be used in your analysis because they will be unavailable for future LEGO products or are otherwise irrelevant.\n",
    "\n",
    "You do not need to worry about inflation or differences in currency; just predict the same kinds of prices as are present in the past data, which have already been converted to USD.\n",
    "\n",
    "### Loading the Data\n",
    "\n",
    "In the cells below, we load both the train and test datasets for you. Remember, both of these datasets contain prices, but we are using the test set as a stand-in for future LEGO products where the price has not yet been determined. The model will be trained on just the train set, then we will compare its predictions on the test set to the actual prices on the test set."
   ]
  },
  {
   "cell_type": "code",
   "execution_count": 1,
   "metadata": {},
   "outputs": [],
   "source": [
    "# Run this cell without changes\n",
    "import pandas as pd\n",
    "import matplotlib.pyplot as plt\n",
    "%matplotlib inline"
   ]
  },
  {
   "cell_type": "code",
   "execution_count": 2,
   "metadata": {},
   "outputs": [
    {
     "data": {
      "text/html": [
       "<div>\n",
       "<style scoped>\n",
       "    .dataframe tbody tr th:only-of-type {\n",
       "        vertical-align: middle;\n",
       "    }\n",
       "\n",
       "    .dataframe tbody tr th {\n",
       "        vertical-align: top;\n",
       "    }\n",
       "\n",
       "    .dataframe thead th {\n",
       "        text-align: right;\n",
       "    }\n",
       "</style>\n",
       "<table border=\"1\" class=\"dataframe\">\n",
       "  <thead>\n",
       "    <tr style=\"text-align: right;\">\n",
       "      <th></th>\n",
       "      <th>prod_id</th>\n",
       "      <th>set_name</th>\n",
       "      <th>prod_desc</th>\n",
       "      <th>theme_name</th>\n",
       "      <th>piece_count</th>\n",
       "      <th>min_age</th>\n",
       "      <th>max_age</th>\n",
       "      <th>difficulty_level</th>\n",
       "      <th>num_reviews</th>\n",
       "      <th>star_rating</th>\n",
       "    </tr>\n",
       "  </thead>\n",
       "  <tbody>\n",
       "    <tr>\n",
       "      <th>0</th>\n",
       "      <td>60123</td>\n",
       "      <td>Volcano Supply Helicopter</td>\n",
       "      <td>Fly in the exploration gear and fly out the cr...</td>\n",
       "      <td>City</td>\n",
       "      <td>330</td>\n",
       "      <td>7.0</td>\n",
       "      <td>12.0</td>\n",
       "      <td>1</td>\n",
       "      <td>3.0</td>\n",
       "      <td>4.3</td>\n",
       "    </tr>\n",
       "    <tr>\n",
       "      <th>1</th>\n",
       "      <td>71246</td>\n",
       "      <td>Adventure Time™ Team Pack</td>\n",
       "      <td>Explore the Land of Ooo with Jake and Lumpy Sp...</td>\n",
       "      <td>DIMENSIONS™</td>\n",
       "      <td>96</td>\n",
       "      <td>7.0</td>\n",
       "      <td>14.0</td>\n",
       "      <td>1</td>\n",
       "      <td>3.0</td>\n",
       "      <td>4.7</td>\n",
       "    </tr>\n",
       "    <tr>\n",
       "      <th>2</th>\n",
       "      <td>10616</td>\n",
       "      <td>My First Playhouse</td>\n",
       "      <td>Learn about daily routines with this easy-to-b...</td>\n",
       "      <td>DUPLO®</td>\n",
       "      <td>25</td>\n",
       "      <td>1.5</td>\n",
       "      <td>5.0</td>\n",
       "      <td>1</td>\n",
       "      <td>3.0</td>\n",
       "      <td>5.0</td>\n",
       "    </tr>\n",
       "    <tr>\n",
       "      <th>3</th>\n",
       "      <td>31079</td>\n",
       "      <td>Sunshine Surfer Van</td>\n",
       "      <td>Enjoy seaside fun with the 3-in-1 Sunshine Sur...</td>\n",
       "      <td>Creator 3-in-1</td>\n",
       "      <td>379</td>\n",
       "      <td>8.0</td>\n",
       "      <td>12.0</td>\n",
       "      <td>1</td>\n",
       "      <td>5.0</td>\n",
       "      <td>4.4</td>\n",
       "    </tr>\n",
       "    <tr>\n",
       "      <th>4</th>\n",
       "      <td>42057</td>\n",
       "      <td>Ultralight Helicopter</td>\n",
       "      <td>Take to the skies with the Ultralight Helicopter!</td>\n",
       "      <td>Technic</td>\n",
       "      <td>199</td>\n",
       "      <td>8.0</td>\n",
       "      <td>14.0</td>\n",
       "      <td>1</td>\n",
       "      <td>9.0</td>\n",
       "      <td>4.7</td>\n",
       "    </tr>\n",
       "    <tr>\n",
       "      <th>...</th>\n",
       "      <td>...</td>\n",
       "      <td>...</td>\n",
       "      <td>...</td>\n",
       "      <td>...</td>\n",
       "      <td>...</td>\n",
       "      <td>...</td>\n",
       "      <td>...</td>\n",
       "      <td>...</td>\n",
       "      <td>...</td>\n",
       "      <td>...</td>\n",
       "    </tr>\n",
       "    <tr>\n",
       "      <th>553</th>\n",
       "      <td>71343</td>\n",
       "      <td>The Powerpuff Girls™ Fun Pack</td>\n",
       "      <td>Save the world before bedtime in the LEGO® DIM...</td>\n",
       "      <td>DIMENSIONS™</td>\n",
       "      <td>56</td>\n",
       "      <td>7.0</td>\n",
       "      <td>14.0</td>\n",
       "      <td>1</td>\n",
       "      <td>1.0</td>\n",
       "      <td>5.0</td>\n",
       "    </tr>\n",
       "    <tr>\n",
       "      <th>554</th>\n",
       "      <td>75114</td>\n",
       "      <td>First Order Stormtrooper™</td>\n",
       "      <td>Prepare for battle against the Resistance!</td>\n",
       "      <td>Star Wars™</td>\n",
       "      <td>81</td>\n",
       "      <td>7.0</td>\n",
       "      <td>14.0</td>\n",
       "      <td>0</td>\n",
       "      <td>10.0</td>\n",
       "      <td>4.7</td>\n",
       "    </tr>\n",
       "    <tr>\n",
       "      <th>555</th>\n",
       "      <td>41597</td>\n",
       "      <td>Go Brick Me</td>\n",
       "      <td>Build a LEGO® BrickHeadz version of yourself!</td>\n",
       "      <td>BrickHeadz</td>\n",
       "      <td>708</td>\n",
       "      <td>10.0</td>\n",
       "      <td>99.0</td>\n",
       "      <td>2</td>\n",
       "      <td>13.0</td>\n",
       "      <td>4.8</td>\n",
       "    </tr>\n",
       "    <tr>\n",
       "      <th>556</th>\n",
       "      <td>75116</td>\n",
       "      <td>Finn</td>\n",
       "      <td>Practice your warrior skills with Finn!</td>\n",
       "      <td>Star Wars™</td>\n",
       "      <td>98</td>\n",
       "      <td>8.0</td>\n",
       "      <td>14.0</td>\n",
       "      <td>1</td>\n",
       "      <td>1.0</td>\n",
       "      <td>5.0</td>\n",
       "    </tr>\n",
       "    <tr>\n",
       "      <th>557</th>\n",
       "      <td>76097</td>\n",
       "      <td>Lex Luthor™ Mech Takedown</td>\n",
       "      <td>Power up for battle against the Lex Luthor™ Mech!</td>\n",
       "      <td>DC Comics™ Super Heroes</td>\n",
       "      <td>406</td>\n",
       "      <td>7.0</td>\n",
       "      <td>14.0</td>\n",
       "      <td>2</td>\n",
       "      <td>5.0</td>\n",
       "      <td>4.8</td>\n",
       "    </tr>\n",
       "  </tbody>\n",
       "</table>\n",
       "<p>558 rows × 10 columns</p>\n",
       "</div>"
      ],
      "text/plain": [
       "     prod_id                       set_name  \\\n",
       "0      60123      Volcano Supply Helicopter   \n",
       "1      71246      Adventure Time™ Team Pack   \n",
       "2      10616             My First Playhouse   \n",
       "3      31079            Sunshine Surfer Van   \n",
       "4      42057          Ultralight Helicopter   \n",
       "..       ...                            ...   \n",
       "553    71343  The Powerpuff Girls™ Fun Pack   \n",
       "554    75114      First Order Stormtrooper™   \n",
       "555    41597                    Go Brick Me   \n",
       "556    75116                           Finn   \n",
       "557    76097      Lex Luthor™ Mech Takedown   \n",
       "\n",
       "                                             prod_desc  \\\n",
       "0    Fly in the exploration gear and fly out the cr...   \n",
       "1    Explore the Land of Ooo with Jake and Lumpy Sp...   \n",
       "2    Learn about daily routines with this easy-to-b...   \n",
       "3    Enjoy seaside fun with the 3-in-1 Sunshine Sur...   \n",
       "4    Take to the skies with the Ultralight Helicopter!   \n",
       "..                                                 ...   \n",
       "553  Save the world before bedtime in the LEGO® DIM...   \n",
       "554         Prepare for battle against the Resistance!   \n",
       "555      Build a LEGO® BrickHeadz version of yourself!   \n",
       "556            Practice your warrior skills with Finn!   \n",
       "557  Power up for battle against the Lex Luthor™ Mech!   \n",
       "\n",
       "                  theme_name  piece_count  min_age  max_age  difficulty_level  \\\n",
       "0                       City          330      7.0     12.0                 1   \n",
       "1                DIMENSIONS™           96      7.0     14.0                 1   \n",
       "2                     DUPLO®           25      1.5      5.0                 1   \n",
       "3             Creator 3-in-1          379      8.0     12.0                 1   \n",
       "4                    Technic          199      8.0     14.0                 1   \n",
       "..                       ...          ...      ...      ...               ...   \n",
       "553              DIMENSIONS™           56      7.0     14.0                 1   \n",
       "554               Star Wars™           81      7.0     14.0                 0   \n",
       "555               BrickHeadz          708     10.0     99.0                 2   \n",
       "556               Star Wars™           98      8.0     14.0                 1   \n",
       "557  DC Comics™ Super Heroes          406      7.0     14.0                 2   \n",
       "\n",
       "     num_reviews  star_rating  \n",
       "0            3.0          4.3  \n",
       "1            3.0          4.7  \n",
       "2            3.0          5.0  \n",
       "3            5.0          4.4  \n",
       "4            9.0          4.7  \n",
       "..           ...          ...  \n",
       "553          1.0          5.0  \n",
       "554         10.0          4.7  \n",
       "555         13.0          4.8  \n",
       "556          1.0          5.0  \n",
       "557          5.0          4.8  \n",
       "\n",
       "[558 rows x 10 columns]"
      ]
     },
     "execution_count": 2,
     "metadata": {},
     "output_type": "execute_result"
    }
   ],
   "source": [
    "# Run this cell without changes\n",
    "\n",
    "train = pd.read_csv(\"data/lego_train.csv\")\n",
    "test = pd.read_csv(\"data/lego_test.csv\")\n",
    "\n",
    "X_train = train.drop(\"list_price\", axis=1)\n",
    "y_train = train[\"list_price\"]\n",
    "\n",
    "X_test = test.drop(\"list_price\", axis=1)\n",
    "y_test = test[\"list_price\"]\n",
    "\n",
    "X_train"
   ]
  },
  {
   "cell_type": "markdown",
   "metadata": {},
   "source": [
    "Some more information about the features of this dataset:"
   ]
  },
  {
   "cell_type": "code",
   "execution_count": 3,
   "metadata": {},
   "outputs": [
    {
     "name": "stdout",
     "output_type": "stream",
     "text": [
      "<class 'pandas.core.frame.DataFrame'>\n",
      "RangeIndex: 558 entries, 0 to 557\n",
      "Data columns (total 10 columns):\n",
      " #   Column            Non-Null Count  Dtype  \n",
      "---  ------            --------------  -----  \n",
      " 0   prod_id           558 non-null    int64  \n",
      " 1   set_name          558 non-null    object \n",
      " 2   prod_desc         544 non-null    object \n",
      " 3   theme_name        558 non-null    object \n",
      " 4   piece_count       558 non-null    int64  \n",
      " 5   min_age           558 non-null    float64\n",
      " 6   max_age           558 non-null    float64\n",
      " 7   difficulty_level  558 non-null    int64  \n",
      " 8   num_reviews       490 non-null    float64\n",
      " 9   star_rating       490 non-null    float64\n",
      "dtypes: float64(4), int64(3), object(3)\n",
      "memory usage: 43.7+ KB\n"
     ]
    }
   ],
   "source": [
    "# Run this cell without changes\n",
    "X_train.info()"
   ]
  },
  {
   "cell_type": "markdown",
   "metadata": {},
   "source": [
    "A visualization of the distribution of the target variable:"
   ]
  },
  {
   "cell_type": "code",
   "execution_count": 4,
   "metadata": {},
   "outputs": [
    {
     "data": {
      "image/png": "[encoded data removed]",
      "text/plain": [
       "<Figure size 720x360 with 1 Axes>"
      ]
     },
     "metadata": {
      "needs_background": "light"
     },
     "output_type": "display_data"
    }
   ],
   "source": [
    "# Run this cell without changes\n",
    "\n",
    "fig, ax = plt.subplots(figsize=(10, 5))\n",
    "\n",
    "ax.hist(y_train, bins=100)\n",
    "\n",
    "ax.set_xlabel(\"Listing Price (USD)\")\n",
    "ax.set_ylabel(\"Count of LEGO Sets\")\n",
    "ax.set_title(\"Distribution of LEGO Set Prices\");"
   ]
  },
  {
   "cell_type": "markdown",
   "metadata": {},
   "source": [
    "### Requirements\n",
    "\n",
    "#### 1. Interpret a Correlation Heatmap to Build a Baseline Model\n",
    "\n",
    "You'll start modeling by choosing the feature that is most correlated with our target, and build and evaluate a linear regression model with just that feature.\n",
    "\n",
    "#### 2. Build a Model with All Relevant Numeric Features\n",
    "\n",
    "Now, add in the rest of the relevant numeric features of the training data, and compare that model's performance to the performance of the baseline model.\n",
    "\n",
    "#### 3. Select the Best Combination of Features\n",
    "\n",
    "Using statistical properties of the fitted model, the `sklearn.feature_selection` submodule, and some custom code, find the combination of relevant numeric features that produces the best scores.\n",
    "\n",
    "#### 4. Build and Evaluate a Final Predictive Model\n",
    "\n",
    "Using the best features selected in the previous step, create a final model, fit it on all rows of the training dataset, and evaluate it on all rows of the test dataset in terms of both r-squared and RMSE.\n",
    "\n",
    "#### 5. Interpret the Final Model\n",
    "\n",
    "Determine what, if any, understanding of the underlying relationship between variables can be determined with this model. This means you will need to interpret the model coefficients as well as checking whether the assumptions of linear regression have been met."
   ]
  },
  {
   "cell_type": "markdown",
   "metadata": {},
   "source": [
    "## 1. Interpret a Correlation Heatmap to Build a Baseline Model\n",
    "\n",
    "### Interpreting a Correlation Heatmap\n",
    "\n",
    "The code below produces a heatmap showing the correlations between all of the numeric values in our training data. The x and y axis labels indicate the pair of values that are being compared, and then the color and the number are both representing the correlation. Color is used here to make it easier to find the largest/smallest numbers — you could perform this analysis with just `train.corr()` if all you wanted was the correlation values.\n",
    "\n",
    "The very left column of the plot is the most important, since it shows correlations between the target (listing price) and other attributes."
   ]
  },
  {
   "cell_type": "code",
   "execution_count": 6,
   "metadata": {},
   "outputs": [
    {
     "data": {
      "text/html": [
       "<div>\n",
       "<style scoped>\n",
       "    .dataframe tbody tr th:only-of-type {\n",
       "        vertical-align: middle;\n",
       "    }\n",
       "\n",
       "    .dataframe tbody tr th {\n",
       "        vertical-align: top;\n",
       "    }\n",
       "\n",
       "    .dataframe thead th {\n",
       "        text-align: right;\n",
       "    }\n",
       "</style>\n",
       "<table border=\"1\" class=\"dataframe\">\n",
       "  <thead>\n",
       "    <tr style=\"text-align: right;\">\n",
       "      <th></th>\n",
       "      <th>list_price</th>\n",
       "      <th>prod_id</th>\n",
       "      <th>piece_count</th>\n",
       "      <th>min_age</th>\n",
       "      <th>max_age</th>\n",
       "      <th>difficulty_level</th>\n",
       "      <th>num_reviews</th>\n",
       "      <th>star_rating</th>\n",
       "    </tr>\n",
       "  </thead>\n",
       "  <tbody>\n",
       "    <tr>\n",
       "      <th>list_price</th>\n",
       "      <td>1.000000</td>\n",
       "      <td>0.276875</td>\n",
       "      <td>0.882439</td>\n",
       "      <td>0.513608</td>\n",
       "      <td>0.312591</td>\n",
       "      <td>0.458560</td>\n",
       "      <td>0.475391</td>\n",
       "      <td>-0.029848</td>\n",
       "    </tr>\n",
       "    <tr>\n",
       "      <th>prod_id</th>\n",
       "      <td>0.276875</td>\n",
       "      <td>1.000000</td>\n",
       "      <td>0.068186</td>\n",
       "      <td>0.030413</td>\n",
       "      <td>0.094009</td>\n",
       "      <td>-0.032951</td>\n",
       "      <td>-0.034769</td>\n",
       "      <td>-0.165924</td>\n",
       "    </tr>\n",
       "    <tr>\n",
       "      <th>piece_count</th>\n",
       "      <td>0.882439</td>\n",
       "      <td>0.068186</td>\n",
       "      <td>1.000000</td>\n",
       "      <td>0.647647</td>\n",
       "      <td>0.377158</td>\n",
       "      <td>0.497373</td>\n",
       "      <td>0.578161</td>\n",
       "      <td>0.048736</td>\n",
       "    </tr>\n",
       "    <tr>\n",
       "      <th>min_age</th>\n",
       "      <td>0.513608</td>\n",
       "      <td>0.030413</td>\n",
       "      <td>0.647647</td>\n",
       "      <td>1.000000</td>\n",
       "      <td>0.557013</td>\n",
       "      <td>0.374841</td>\n",
       "      <td>0.543562</td>\n",
       "      <td>0.028142</td>\n",
       "    </tr>\n",
       "    <tr>\n",
       "      <th>max_age</th>\n",
       "      <td>0.312591</td>\n",
       "      <td>0.094009</td>\n",
       "      <td>0.377158</td>\n",
       "      <td>0.557013</td>\n",
       "      <td>1.000000</td>\n",
       "      <td>0.073348</td>\n",
       "      <td>0.390098</td>\n",
       "      <td>0.008120</td>\n",
       "    </tr>\n",
       "    <tr>\n",
       "      <th>difficulty_level</th>\n",
       "      <td>0.458560</td>\n",
       "      <td>-0.032951</td>\n",
       "      <td>0.497373</td>\n",
       "      <td>0.374841</td>\n",
       "      <td>0.073348</td>\n",
       "      <td>1.000000</td>\n",
       "      <td>0.297408</td>\n",
       "      <td>0.099794</td>\n",
       "    </tr>\n",
       "    <tr>\n",
       "      <th>num_reviews</th>\n",
       "      <td>0.475391</td>\n",
       "      <td>-0.034769</td>\n",
       "      <td>0.578161</td>\n",
       "      <td>0.543562</td>\n",
       "      <td>0.390098</td>\n",
       "      <td>0.297408</td>\n",
       "      <td>1.000000</td>\n",
       "      <td>0.010378</td>\n",
       "    </tr>\n",
       "    <tr>\n",
       "      <th>star_rating</th>\n",
       "      <td>-0.029848</td>\n",
       "      <td>-0.165924</td>\n",
       "      <td>0.048736</td>\n",
       "      <td>0.028142</td>\n",
       "      <td>0.008120</td>\n",
       "      <td>0.099794</td>\n",
       "      <td>0.010378</td>\n",
       "      <td>1.000000</td>\n",
       "    </tr>\n",
       "  </tbody>\n",
       "</table>\n",
       "</div>"
      ],
      "text/plain": [
       "                  list_price   prod_id  piece_count   min_age   max_age  \\\n",
       "list_price          1.000000  0.276875     0.882439  0.513608  0.312591   \n",
       "prod_id             0.276875  1.000000     0.068186  0.030413  0.094009   \n",
       "piece_count         0.882439  0.068186     1.000000  0.647647  0.377158   \n",
       "min_age             0.513608  0.030413     0.647647  1.000000  0.557013   \n",
       "max_age             0.312591  0.094009     0.377158  0.557013  1.000000   \n",
       "difficulty_level    0.458560 -0.032951     0.497373  0.374841  0.073348   \n",
       "num_reviews         0.475391 -0.034769     0.578161  0.543562  0.390098   \n",
       "star_rating        -0.029848 -0.165924     0.048736  0.028142  0.008120   \n",
       "\n",
       "                  difficulty_level  num_reviews  star_rating  \n",
       "list_price                0.458560     0.475391    -0.029848  \n",
       "prod_id                  -0.032951    -0.034769    -0.165924  \n",
       "piece_count               0.497373     0.578161     0.048736  \n",
       "min_age                   0.374841     0.543562     0.028142  \n",
       "max_age                   0.073348     0.390098     0.008120  \n",
       "difficulty_level          1.000000     0.297408     0.099794  \n",
       "num_reviews               0.297408     1.000000     0.010378  \n",
       "star_rating               0.099794     0.010378     1.000000  "
      ]
     },
     "execution_count": 6,
     "metadata": {},
     "output_type": "execute_result"
    }
   ],
   "source": [
    "heatmap_data = pd.concat([y_train, X_train], axis=1)\n",
    "heatmap_data.corr()"
   ]
  },
  {
   "cell_type": "code",
   "execution_count": 5,
   "metadata": {},
   "outputs": [
    {
     "data": {
      "image/png": "[encoded data removed]",
      "text/plain": [
       "<Figure size 360x576 with 2 Axes>"
      ]
     },
     "metadata": {
      "needs_background": "light"
     },
     "output_type": "display_data"
    }
   ],
   "source": [
    "# Run this cell without changes\n",
    "\n",
    "import seaborn as sns\n",
    "import numpy as np\n",
    "\n",
    "# Create a df with the target as the first column,\n",
    "# then compute the correlation matrix\n",
    "heatmap_data = pd.concat([y_train, X_train], axis=1)\n",
    "corr = heatmap_data.corr()\n",
    "\n",
    "# Set up figure and axes\n",
    "fig, ax = plt.subplots(figsize=(5, 8))\n",
    "\n",
    "# Plot a heatmap of the correlation matrix, with both\n",
    "# numbers and colors indicating the correlations\n",
    "sns.heatmap(\n",
    "    # Specifies the data to be plotted\n",
    "    data=corr,\n",
    "    # The mask means we only show half the values,\n",
    "    # instead of showing duplicates. It's optional.\n",
    "    mask=np.triu(np.ones_like(corr, dtype=bool)),\n",
    "    # Specifies that we should use the existing axes\n",
    "    ax=ax,\n",
    "    # Specifies that we want labels, not just colors\n",
    "    annot=True,\n",
    "    # Customizes colorbar appearance\n",
    "    cbar_kws={\"label\": \"Correlation\", \"orientation\": \"horizontal\", \"pad\": .2, \"extend\": \"both\"}\n",
    ")\n",
    "\n",
    "# Customize the plot appearance\n",
    "ax.set_title(\"Heatmap of Correlation Between Attributes (Including Target)\");"
   ]
  },
  {
   "cell_type": "markdown",
   "metadata": {},
   "source": [
    "Based on the plot above, which feature is most strongly correlated with the target (`listing_price`)? In other words, which feature has the strongest positive or negative correlation — the correlation with the greatest magnitude?"
   ]
  },
  {
   "cell_type": "code",
   "execution_count": 7,
   "metadata": {},
   "outputs": [],
   "source": [
    "# Replace None with the name of the feature (a string)\n",
    "\n",
    "most_correlated_feature = 'piece_count'"
   ]
  },
  {
   "cell_type": "markdown",
   "metadata": {},
   "source": [
    "(Make sure you run the cell above before proceeding.)\n",
    "\n",
    "Let's create a scatter plot of that feature vs. listing price:"
   ]
  },
  {
   "cell_type": "code",
   "execution_count": 8,
   "metadata": {},
   "outputs": [
    {
     "data": {
      "image/png": "[encoded data removed]",
      "text/plain": [
       "<Figure size 432x288 with 1 Axes>"
      ]
     },
     "metadata": {
      "needs_background": "light"
     },
     "output_type": "display_data"
    }
   ],
   "source": [
    "# Run this cell without changes\n",
    "fig, ax = plt.subplots()\n",
    "\n",
    "ax.scatter(X_train[most_correlated_feature], y_train, alpha=0.5)\n",
    "ax.set_xlabel(most_correlated_feature)\n",
    "ax.set_ylabel(\"listing price\")\n",
    "ax.set_title(\"Most Correlated Feature vs. Listing Price\");"
   ]
  },
  {
   "cell_type": "markdown",
   "metadata": {},
   "source": [
    "Assuming you correctly identified `piece_count` (the number of pieces in the LEGO set) as the most correlated feature, you should have a scatter plot that shows a fairly clear linear relationship between that feature and the target. It looks like we are ready to proceed with making our baseline model without any additional transformation."
   ]
  },
  {
   "cell_type": "markdown",
   "metadata": {},
   "source": [
    "### Building a Baseline Model\n",
    "\n",
    "Now, we'll build a linear regression model using just that feature, which will serve as our baseline model:"
   ]
  },
  {
   "cell_type": "code",
   "execution_count": 9,
   "metadata": {},
   "outputs": [],
   "source": [
    "# Run this cell without changes\n",
    "\n",
    "from sklearn.linear_model import LinearRegression\n",
    "\n",
    "baseline_model = LinearRegression()"
   ]
  },
  {
   "cell_type": "markdown",
   "metadata": {},
   "source": [
    "Then we evaluate the model using `cross_validate` and `ShuffleSplit`, which essentially means that we perform 3 separate train-test splits within our `X_train` and `y_train`, then we find both the train and the test scores for each."
   ]
  },
  {
   "cell_type": "code",
   "execution_count": 10,
   "metadata": {},
   "outputs": [
    {
     "name": "stdout",
     "output_type": "stream",
     "text": [
      "Train score:      0.7785726407224942\n",
      "Validation score: 0.7793473618106956\n"
     ]
    }
   ],
   "source": [
    "# Run this cell without changes\n",
    "\n",
    "from sklearn.model_selection import cross_validate, ShuffleSplit\n",
    "\n",
    "splitter = ShuffleSplit(n_splits=3, test_size=0.25, random_state=0)\n",
    "\n",
    "baseline_scores = cross_validate(\n",
    "    estimator=baseline_model,\n",
    "    X=X_train[[most_correlated_feature]],\n",
    "    y=y_train,\n",
    "    return_train_score=True,\n",
    "    cv=splitter\n",
    ")\n",
    "\n",
    "print(\"Train score:     \", baseline_scores[\"train_score\"].mean())\n",
    "print(\"Validation score:\", baseline_scores[\"test_score\"].mean())"
   ]
  },
  {
   "cell_type": "code",
   "execution_count": 11,
   "metadata": {},
   "outputs": [
    {
     "data": {
      "text/plain": [
       "{'fit_time': array([0.0239346 , 0.00199461, 0.0029912 ]),\n",
       " 'score_time': array([0.00099707, 0.00199652, 0.00199747]),\n",
       " 'test_score': array([0.70871063, 0.87983661, 0.74949485]),\n",
       " 'train_score': array([0.79054938, 0.76751696, 0.77765159])}"
      ]
     },
     "execution_count": 11,
     "metadata": {},
     "output_type": "execute_result"
    }
   ],
   "source": [
    "baseline_scores"
   ]
  },
  {
   "cell_type": "markdown",
   "metadata": {},
   "source": [
    "Interpret these scores below. What are we measuring? What can we learn from this?\n",
    "\n",
    "**Hint:** when you use `cross_validate`, it uses the `.score` method of the estimator by default. See [documentation here](https://scikit-learn.org/stable/modules/generated/sklearn.linear_model.LinearRegression.html#sklearn.linear_model.LinearRegression.score) for that method of `LinearRegression`."
   ]
  },
  {
   "cell_type": "code",
   "execution_count": null,
   "metadata": {},
   "outputs": [],
   "source": [
    "# Replace None with appropriate text\n",
    "\"\"\"\n",
    "These are the R squared scores of both the training and test data. Both\n",
    "training and test data can explain 78% of the variance in the listing price\n",
    "using the number of pieces. The performance of the model on both\n",
    "the training and testing data is almost identical, which shows a good model\n",
    "\"\"\""
   ]
  },
  {
   "cell_type": "markdown",
   "metadata": {},
   "source": [
    "<details>\n",
    "    <summary style=\"cursor: pointer\">Solution (click to reveal)</summary>\n",
    "    <p>Because we are using the <code>.score</code> method of <code>LinearRegression</code>, these are r-squared scores. That means that each of them represents the amount of variance of the target (listing price) that is explained by the model's features (currently just the number of pieces) and parameters (intercept value and coefficient values for the features)</p>\n",
    "    <p>In general this seems like a fairly strong model already. It is getting nearly identical performance on training subsets compared to the validation subsets, explaining around 80% of the variance both times</p>\n",
    "</details>"
   ]
  },
  {
   "cell_type": "markdown",
   "metadata": {},
   "source": [
    "## 2. Build a Model with All Numeric Features\n",
    "\n",
    "Now that we have established a baseline, it's time to move on to more complex models.\n",
    "\n",
    "### Numeric Feature Selection\n",
    "\n",
    "One thing that you will almost always need to do in a modeling process is remove non-numeric data prior to modeling. While you could apply more-advanced techniques such as one-hot encoding or NLP in order to convert non-numeric columns into numbers, this time just create a dataframe `X_train_numeric` that is a copy of `X_train` that only contains numeric columns.\n",
    "\n",
    "You can look at the `df.info()` printout above to do this manually, or there is a handy `.select_dtypes` method ([documentation here](https://pandas.pydata.org/pandas-docs/stable/reference/api/pandas.DataFrame.select_dtypes.html))."
   ]
  },
  {
   "cell_type": "code",
   "execution_count": 17,
   "metadata": {},
   "outputs": [
    {
     "data": {
      "text/html": [
       "<div>\n",
       "<style scoped>\n",
       "    .dataframe tbody tr th:only-of-type {\n",
       "        vertical-align: middle;\n",
       "    }\n",
       "\n",
       "    .dataframe tbody tr th {\n",
       "        vertical-align: top;\n",
       "    }\n",
       "\n",
       "    .dataframe thead th {\n",
       "        text-align: right;\n",
       "    }\n",
       "</style>\n",
       "<table border=\"1\" class=\"dataframe\">\n",
       "  <thead>\n",
       "    <tr style=\"text-align: right;\">\n",
       "      <th></th>\n",
       "      <th>prod_id</th>\n",
       "      <th>piece_count</th>\n",
       "      <th>min_age</th>\n",
       "      <th>max_age</th>\n",
       "      <th>difficulty_level</th>\n",
       "      <th>num_reviews</th>\n",
       "      <th>star_rating</th>\n",
       "    </tr>\n",
       "  </thead>\n",
       "  <tbody>\n",
       "    <tr>\n",
       "      <th>0</th>\n",
       "      <td>60123</td>\n",
       "      <td>330</td>\n",
       "      <td>7.0</td>\n",
       "      <td>12.0</td>\n",
       "      <td>1</td>\n",
       "      <td>3.0</td>\n",
       "      <td>4.3</td>\n",
       "    </tr>\n",
       "    <tr>\n",
       "      <th>1</th>\n",
       "      <td>71246</td>\n",
       "      <td>96</td>\n",
       "      <td>7.0</td>\n",
       "      <td>14.0</td>\n",
       "      <td>1</td>\n",
       "      <td>3.0</td>\n",
       "      <td>4.7</td>\n",
       "    </tr>\n",
       "    <tr>\n",
       "      <th>2</th>\n",
       "      <td>10616</td>\n",
       "      <td>25</td>\n",
       "      <td>1.5</td>\n",
       "      <td>5.0</td>\n",
       "      <td>1</td>\n",
       "      <td>3.0</td>\n",
       "      <td>5.0</td>\n",
       "    </tr>\n",
       "    <tr>\n",
       "      <th>3</th>\n",
       "      <td>31079</td>\n",
       "      <td>379</td>\n",
       "      <td>8.0</td>\n",
       "      <td>12.0</td>\n",
       "      <td>1</td>\n",
       "      <td>5.0</td>\n",
       "      <td>4.4</td>\n",
       "    </tr>\n",
       "    <tr>\n",
       "      <th>4</th>\n",
       "      <td>42057</td>\n",
       "      <td>199</td>\n",
       "      <td>8.0</td>\n",
       "      <td>14.0</td>\n",
       "      <td>1</td>\n",
       "      <td>9.0</td>\n",
       "      <td>4.7</td>\n",
       "    </tr>\n",
       "    <tr>\n",
       "      <th>...</th>\n",
       "      <td>...</td>\n",
       "      <td>...</td>\n",
       "      <td>...</td>\n",
       "      <td>...</td>\n",
       "      <td>...</td>\n",
       "      <td>...</td>\n",
       "      <td>...</td>\n",
       "    </tr>\n",
       "    <tr>\n",
       "      <th>553</th>\n",
       "      <td>71343</td>\n",
       "      <td>56</td>\n",
       "      <td>7.0</td>\n",
       "      <td>14.0</td>\n",
       "      <td>1</td>\n",
       "      <td>1.0</td>\n",
       "      <td>5.0</td>\n",
       "    </tr>\n",
       "    <tr>\n",
       "      <th>554</th>\n",
       "      <td>75114</td>\n",
       "      <td>81</td>\n",
       "      <td>7.0</td>\n",
       "      <td>14.0</td>\n",
       "      <td>0</td>\n",
       "      <td>10.0</td>\n",
       "      <td>4.7</td>\n",
       "    </tr>\n",
       "    <tr>\n",
       "      <th>555</th>\n",
       "      <td>41597</td>\n",
       "      <td>708</td>\n",
       "      <td>10.0</td>\n",
       "      <td>99.0</td>\n",
       "      <td>2</td>\n",
       "      <td>13.0</td>\n",
       "      <td>4.8</td>\n",
       "    </tr>\n",
       "    <tr>\n",
       "      <th>556</th>\n",
       "      <td>75116</td>\n",
       "      <td>98</td>\n",
       "      <td>8.0</td>\n",
       "      <td>14.0</td>\n",
       "      <td>1</td>\n",
       "      <td>1.0</td>\n",
       "      <td>5.0</td>\n",
       "    </tr>\n",
       "    <tr>\n",
       "      <th>557</th>\n",
       "      <td>76097</td>\n",
       "      <td>406</td>\n",
       "      <td>7.0</td>\n",
       "      <td>14.0</td>\n",
       "      <td>2</td>\n",
       "      <td>5.0</td>\n",
       "      <td>4.8</td>\n",
       "    </tr>\n",
       "  </tbody>\n",
       "</table>\n",
       "<p>558 rows × 7 columns</p>\n",
       "</div>"
      ],
      "text/plain": [
       "     prod_id  piece_count  min_age  max_age  difficulty_level  num_reviews  \\\n",
       "0      60123          330      7.0     12.0                 1          3.0   \n",
       "1      71246           96      7.0     14.0                 1          3.0   \n",
       "2      10616           25      1.5      5.0                 1          3.0   \n",
       "3      31079          379      8.0     12.0                 1          5.0   \n",
       "4      42057          199      8.0     14.0                 1          9.0   \n",
       "..       ...          ...      ...      ...               ...          ...   \n",
       "553    71343           56      7.0     14.0                 1          1.0   \n",
       "554    75114           81      7.0     14.0                 0         10.0   \n",
       "555    41597          708     10.0     99.0                 2         13.0   \n",
       "556    75116           98      8.0     14.0                 1          1.0   \n",
       "557    76097          406      7.0     14.0                 2          5.0   \n",
       "\n",
       "     star_rating  \n",
       "0            4.3  \n",
       "1            4.7  \n",
       "2            5.0  \n",
       "3            4.4  \n",
       "4            4.7  \n",
       "..           ...  \n",
       "553          5.0  \n",
       "554          4.7  \n",
       "555          4.8  \n",
       "556          5.0  \n",
       "557          4.8  \n",
       "\n",
       "[558 rows x 7 columns]"
      ]
     },
     "execution_count": 17,
     "metadata": {},
     "output_type": "execute_result"
    }
   ],
   "source": [
    "# Replace None with appropriate code\n",
    "\n",
    "X_train_numeric = X_train.select_dtypes(exclude ='object')\n",
    "\n",
    "X_train_numeric"
   ]
  },
  {
   "cell_type": "markdown",
   "metadata": {},
   "source": [
    "The following code checks that your answer was correct:"
   ]
  },
  {
   "cell_type": "code",
   "execution_count": 13,
   "metadata": {},
   "outputs": [],
   "source": [
    "# Run this cell without changes\n",
    "\n",
    "# X_train_numeric should be a dataframe\n",
    "assert type(X_train_numeric) == pd.DataFrame\n",
    "\n",
    "# Check for correct shape\n",
    "assert X_train_numeric.shape == (558, 7)"
   ]
  },
  {
   "cell_type": "markdown",
   "metadata": {},
   "source": [
    "Now we can look at scatter plots of all numeric features compared to the target (skipping `piece_count` since we already looked at that earlier):"
   ]
  },
  {
   "cell_type": "code",
   "execution_count": 14,
   "metadata": {},
   "outputs": [
    {
     "data": {
      "image/png": "[encoded data removed]",
      "text/plain": [
       "<Figure size 864x576 with 6 Axes>"
      ]
     },
     "metadata": {
      "needs_background": "light"
     },
     "output_type": "display_data"
    }
   ],
   "source": [
    "# Run this cell without changes\n",
    "\n",
    "scatterplot_data = X_train_numeric.drop(\"piece_count\", axis=1)\n",
    "\n",
    "fig, axes = plt.subplots(ncols=3, nrows=2, figsize=(12, 8))\n",
    "fig.set_tight_layout(True)\n",
    "\n",
    "for index, col in enumerate(scatterplot_data.columns):\n",
    "    ax = axes[index//3][index%3]\n",
    "    ax.scatter(X_train_numeric[col], y_train, alpha=0.2)\n",
    "    ax.set_xlabel(col)\n",
    "    ax.set_ylabel(\"listing price\")"
   ]
  },
  {
   "cell_type": "markdown",
   "metadata": {},
   "source": [
    "### Feature Selection Using Domain Understanding\n",
    "\n",
    "Ok, now all of the remaining features can technically go into a model with scikit-learn. But do they make sense?\n",
    "\n",
    "Some reasons you might not want to include a given numeric column include:\n",
    "\n",
    "1. The column represents a unique identifier, not an actual numeric feature\n",
    "2. The column is something that will not be available when making future predictions\n",
    "\n",
    "Recall that the business purpose here is creating an algorithm to set the price for a newly-released LEGO set. Which columns should we drop because of the issues above?"
   ]
  },
  {
   "cell_type": "code",
   "execution_count": null,
   "metadata": {},
   "outputs": [],
   "source": [
    "# Replace None with appropriate text\n",
    "\"\"\"\n",
    "prod_id, num_reviews, star_rating\n",
    "\"\"\""
   ]
  },
  {
   "cell_type": "markdown",
   "metadata": {},
   "source": [
    " <details>\n",
    "    <summary style=\"cursor: pointer\">Solution (click to reveal)</summary>\n",
    "    <p>The first issue aligns with the first feature we have, <code>prod_id</code></p>\n",
    "    <p>While it is possible that there is some useful information encoded in that number, it seems like it is not really a numeric feature in the traditional sense</p>\n",
    "    <p>The scatter plot supports this idea, since it shows almost all prices being represented by a narrow range of ID values</p>\n",
    "    <p>The second issue aligns with <code>num_reviews</code> and <code>star_rating</code>. Although these might be useful features in some modeling context, they are not useful for this algorithm because we won't know the number of reviews or the star rating until after the LEGO set is released.</p>\n",
    "</details>"
   ]
  },
  {
   "cell_type": "markdown",
   "metadata": {},
   "source": [
    "Now, create a variable `X_train_second_model`, which is a copy of `X_train_numeric` where those irrelevant columns have been removed:"
   ]
  },
  {
   "cell_type": "code",
   "execution_count": 19,
   "metadata": {},
   "outputs": [
    {
     "data": {
      "text/html": [
       "<div>\n",
       "<style scoped>\n",
       "    .dataframe tbody tr th:only-of-type {\n",
       "        vertical-align: middle;\n",
       "    }\n",
       "\n",
       "    .dataframe tbody tr th {\n",
       "        vertical-align: top;\n",
       "    }\n",
       "\n",
       "    .dataframe thead th {\n",
       "        text-align: right;\n",
       "    }\n",
       "</style>\n",
       "<table border=\"1\" class=\"dataframe\">\n",
       "  <thead>\n",
       "    <tr style=\"text-align: right;\">\n",
       "      <th></th>\n",
       "      <th>piece_count</th>\n",
       "      <th>min_age</th>\n",
       "      <th>max_age</th>\n",
       "      <th>difficulty_level</th>\n",
       "    </tr>\n",
       "  </thead>\n",
       "  <tbody>\n",
       "    <tr>\n",
       "      <th>0</th>\n",
       "      <td>330</td>\n",
       "      <td>7.0</td>\n",
       "      <td>12.0</td>\n",
       "      <td>1</td>\n",
       "    </tr>\n",
       "    <tr>\n",
       "      <th>1</th>\n",
       "      <td>96</td>\n",
       "      <td>7.0</td>\n",
       "      <td>14.0</td>\n",
       "      <td>1</td>\n",
       "    </tr>\n",
       "    <tr>\n",
       "      <th>2</th>\n",
       "      <td>25</td>\n",
       "      <td>1.5</td>\n",
       "      <td>5.0</td>\n",
       "      <td>1</td>\n",
       "    </tr>\n",
       "    <tr>\n",
       "      <th>3</th>\n",
       "      <td>379</td>\n",
       "      <td>8.0</td>\n",
       "      <td>12.0</td>\n",
       "      <td>1</td>\n",
       "    </tr>\n",
       "    <tr>\n",
       "      <th>4</th>\n",
       "      <td>199</td>\n",
       "      <td>8.0</td>\n",
       "      <td>14.0</td>\n",
       "      <td>1</td>\n",
       "    </tr>\n",
       "    <tr>\n",
       "      <th>...</th>\n",
       "      <td>...</td>\n",
       "      <td>...</td>\n",
       "      <td>...</td>\n",
       "      <td>...</td>\n",
       "    </tr>\n",
       "    <tr>\n",
       "      <th>553</th>\n",
       "      <td>56</td>\n",
       "      <td>7.0</td>\n",
       "      <td>14.0</td>\n",
       "      <td>1</td>\n",
       "    </tr>\n",
       "    <tr>\n",
       "      <th>554</th>\n",
       "      <td>81</td>\n",
       "      <td>7.0</td>\n",
       "      <td>14.0</td>\n",
       "      <td>0</td>\n",
       "    </tr>\n",
       "    <tr>\n",
       "      <th>555</th>\n",
       "      <td>708</td>\n",
       "      <td>10.0</td>\n",
       "      <td>99.0</td>\n",
       "      <td>2</td>\n",
       "    </tr>\n",
       "    <tr>\n",
       "      <th>556</th>\n",
       "      <td>98</td>\n",
       "      <td>8.0</td>\n",
       "      <td>14.0</td>\n",
       "      <td>1</td>\n",
       "    </tr>\n",
       "    <tr>\n",
       "      <th>557</th>\n",
       "      <td>406</td>\n",
       "      <td>7.0</td>\n",
       "      <td>14.0</td>\n",
       "      <td>2</td>\n",
       "    </tr>\n",
       "  </tbody>\n",
       "</table>\n",
       "<p>558 rows × 4 columns</p>\n",
       "</div>"
      ],
      "text/plain": [
       "     piece_count  min_age  max_age  difficulty_level\n",
       "0            330      7.0     12.0                 1\n",
       "1             96      7.0     14.0                 1\n",
       "2             25      1.5      5.0                 1\n",
       "3            379      8.0     12.0                 1\n",
       "4            199      8.0     14.0                 1\n",
       "..           ...      ...      ...               ...\n",
       "553           56      7.0     14.0                 1\n",
       "554           81      7.0     14.0                 0\n",
       "555          708     10.0     99.0                 2\n",
       "556           98      8.0     14.0                 1\n",
       "557          406      7.0     14.0                 2\n",
       "\n",
       "[558 rows x 4 columns]"
      ]
     },
     "execution_count": 19,
     "metadata": {},
     "output_type": "execute_result"
    }
   ],
   "source": [
    "# Replace None with appropriate code\n",
    "\n",
    "X_train_second_model = X_train_numeric.drop(['prod_id','num_reviews','star_rating'], axis=1)\n",
    "\n",
    "X_train_second_model"
   ]
  },
  {
   "cell_type": "markdown",
   "metadata": {},
   "source": [
    "### Building and Evaluating the Second Model\n",
    "\n",
    "In the cell below, we use the same process to evaluate a model using `X_train_second_model` rather than using just `piece_count`."
   ]
  },
  {
   "cell_type": "code",
   "execution_count": 20,
   "metadata": {},
   "outputs": [
    {
     "name": "stdout",
     "output_type": "stream",
     "text": [
      "Current Model\n",
      "Train score:      0.7884552982196166\n",
      "Validation score: 0.7558203636660551\n",
      "\n",
      "Baseline Model\n",
      "Train score:      0.7785726407224942\n",
      "Validation score: 0.7793473618106956\n"
     ]
    }
   ],
   "source": [
    "# Run this cell without changes\n",
    "\n",
    "second_model = LinearRegression()\n",
    "\n",
    "second_model_scores = cross_validate(\n",
    "    estimator=second_model,\n",
    "    X=X_train_second_model,\n",
    "    y=y_train,\n",
    "    return_train_score=True,\n",
    "    cv=splitter\n",
    ")\n",
    "\n",
    "print(\"Current Model\")\n",
    "print(\"Train score:     \", second_model_scores[\"train_score\"].mean())\n",
    "print(\"Validation score:\", second_model_scores[\"test_score\"].mean())\n",
    "print()\n",
    "print(\"Baseline Model\")\n",
    "print(\"Train score:     \", baseline_scores[\"train_score\"].mean())\n",
    "print(\"Validation score:\", baseline_scores[\"test_score\"].mean())"
   ]
  },
  {
   "cell_type": "markdown",
   "metadata": {},
   "source": [
    "Interpret these results. Did our second model perform better than the baseline? Any ideas about why or why not?\n",
    "\n",
    "**Hint:** because the purpose of this model is to set future prices that have not been determined yet, the most important metric for evaluating model performance is the validation score, not the train score."
   ]
  },
  {
   "cell_type": "code",
   "execution_count": null,
   "metadata": {},
   "outputs": [],
   "source": [
    "# Replace None with appropriate text\n",
    "\"\"\"\n",
    "Second model got better on training data than the test data. The overall\n",
    "model is wrong since we are making the model to generate prices for future\n",
    "lego sets, so it should do better on the testing data. Adding more features\n",
    "caused overfitting\n",
    "\"\"\""
   ]
  },
  {
   "cell_type": "markdown",
   "metadata": {},
   "source": [
    "<details>\n",
    "    <summary style=\"cursor: pointer\">Solution (click to reveal)</summary>\n",
    "    <p>Our second model got slightly better scores on the training data, but worse scores on the validation data. This means that it is a worse model overall, since what we care about is the ability to generate prices for future LEGO sets, not the ability to fit well to the known LEGO sets' features</p>\n",
    "    <p>It seems like adding in these other features is actually just causing overfitting, rather than improving the model's ability to understand the underlying patterns in the data</p>\n",
    "</details>"
   ]
  },
  {
   "cell_type": "markdown",
   "metadata": {},
   "source": [
    "## 3. Select the Best Combination of Features\n",
    "\n",
    "As you likely noted above, adding all relevant numeric features did not actually improve the model performance. Instead, it led to overfitting.\n",
    "\n",
    "### Investigating Multicollinearity\n",
    "\n",
    "This potentially indicates that our model is performing poorly because these features violate the independence assumption (i.e. there is strong multicollinearity). In other words, maybe the minimum age, maximum age, and difficulty level are not really providing different information than the number of pieces in the LEGO set, and instead are just adding noise. Then the model is using that noise to get a slightly better score on the training data, but but a worse score on the validation data.\n",
    "\n",
    "While `LinearRegression` from scikit-learn has a lot of nice functionality for working with a predictive framing (e.g. compatibility with the `cross_validate` function), it doesn't have anything built in to detect strong multicollinearity. Fortunately the same linear regression model is also available from StatsModels ([documentation here](https://www.statsmodels.org/stable/generated/statsmodels.regression.linear_model.OLS.html)), where it is called `OLS` (for \"ordinary least squares\"). Models in StatsModels, including `OLS`, are not really designed for predictive model validation, but they do give us a lot more statistical information.\n",
    "\n",
    "In the cell below, we use StatsModels to fit and evaluate a linear regression model on the same features used in the second model. Note that we will only see one r-squared value (not train and validation r-squared values) because it is using the full `X_train` dataset instead of using cross-validation."
   ]
  },
  {
   "cell_type": "code",
   "execution_count": 21,
   "metadata": {},
   "outputs": [
    {
     "name": "stderr",
     "output_type": "stream",
     "text": [
      "C:\\Users\\charityg\\anaconda3\\lib\\site-packages\\statsmodels\\tsa\\tsatools.py:142: FutureWarning: In a future version of pandas all arguments of concat except for the argument 'objs' will be keyword-only\n",
      "  x = pd.concat(x[::order], 1)\n"
     ]
    },
    {
     "data": {
      "text/html": [
       "<table class=\"simpletable\">\n",
       "<caption>OLS Regression Results</caption>\n",
       "<tr>\n",
       "  <th>Dep. Variable:</th>       <td>list_price</td>    <th>  R-squared:         </th> <td>   0.786</td> \n",
       "</tr>\n",
       "<tr>\n",
       "  <th>Model:</th>                   <td>OLS</td>       <th>  Adj. R-squared:    </th> <td>   0.784</td> \n",
       "</tr>\n",
       "<tr>\n",
       "  <th>Method:</th>             <td>Least Squares</td>  <th>  F-statistic:       </th> <td>   506.8</td> \n",
       "</tr>\n",
       "<tr>\n",
       "  <th>Date:</th>             <td>Sun, 26 Jun 2022</td> <th>  Prob (F-statistic):</th> <td>2.40e-183</td>\n",
       "</tr>\n",
       "<tr>\n",
       "  <th>Time:</th>                 <td>11:24:17</td>     <th>  Log-Likelihood:    </th> <td> -2741.4</td> \n",
       "</tr>\n",
       "<tr>\n",
       "  <th>No. Observations:</th>      <td>   558</td>      <th>  AIC:               </th> <td>   5493.</td> \n",
       "</tr>\n",
       "<tr>\n",
       "  <th>Df Residuals:</th>          <td>   553</td>      <th>  BIC:               </th> <td>   5514.</td> \n",
       "</tr>\n",
       "<tr>\n",
       "  <th>Df Model:</th>              <td>     4</td>      <th>                     </th>     <td> </td>    \n",
       "</tr>\n",
       "<tr>\n",
       "  <th>Covariance Type:</th>      <td>nonrobust</td>    <th>                     </th>     <td> </td>    \n",
       "</tr>\n",
       "</table>\n",
       "<table class=\"simpletable\">\n",
       "<tr>\n",
       "          <td></td>            <th>coef</th>     <th>std err</th>      <th>t</th>      <th>P>|t|</th>  <th>[0.025</th>    <th>0.975]</th>  \n",
       "</tr>\n",
       "<tr>\n",
       "  <th>const</th>            <td>   22.0991</td> <td>    4.550</td> <td>    4.857</td> <td> 0.000</td> <td>   13.162</td> <td>   31.037</td>\n",
       "</tr>\n",
       "<tr>\n",
       "  <th>piece_count</th>      <td>    0.0906</td> <td>    0.003</td> <td>   33.407</td> <td> 0.000</td> <td>    0.085</td> <td>    0.096</td>\n",
       "</tr>\n",
       "<tr>\n",
       "  <th>min_age</th>          <td>   -2.7627</td> <td>    0.696</td> <td>   -3.971</td> <td> 0.000</td> <td>   -4.129</td> <td>   -1.396</td>\n",
       "</tr>\n",
       "<tr>\n",
       "  <th>max_age</th>          <td>    0.0501</td> <td>    0.051</td> <td>    0.981</td> <td> 0.327</td> <td>   -0.050</td> <td>    0.150</td>\n",
       "</tr>\n",
       "<tr>\n",
       "  <th>difficulty_level</th> <td>    3.3626</td> <td>    2.064</td> <td>    1.629</td> <td> 0.104</td> <td>   -0.691</td> <td>    7.416</td>\n",
       "</tr>\n",
       "</table>\n",
       "<table class=\"simpletable\">\n",
       "<tr>\n",
       "  <th>Omnibus:</th>       <td>838.141</td> <th>  Durbin-Watson:     </th>  <td>   1.976</td> \n",
       "</tr>\n",
       "<tr>\n",
       "  <th>Prob(Omnibus):</th> <td> 0.000</td>  <th>  Jarque-Bera (JB):  </th> <td>331324.405</td>\n",
       "</tr>\n",
       "<tr>\n",
       "  <th>Skew:</th>          <td> 8.064</td>  <th>  Prob(JB):          </th>  <td>    0.00</td> \n",
       "</tr>\n",
       "<tr>\n",
       "  <th>Kurtosis:</th>      <td>121.281</td> <th>  Cond. No.          </th>  <td>2.85e+03</td> \n",
       "</tr>\n",
       "</table><br/><br/>Notes:<br/>[1] Standard Errors assume that the covariance matrix of the errors is correctly specified.<br/>[2] The condition number is large, 2.85e+03. This might indicate that there are<br/>strong multicollinearity or other numerical problems."
      ],
      "text/plain": [
       "<class 'statsmodels.iolib.summary.Summary'>\n",
       "\"\"\"\n",
       "                            OLS Regression Results                            \n",
       "==============================================================================\n",
       "Dep. Variable:             list_price   R-squared:                       0.786\n",
       "Model:                            OLS   Adj. R-squared:                  0.784\n",
       "Method:                 Least Squares   F-statistic:                     506.8\n",
       "Date:                Sun, 26 Jun 2022   Prob (F-statistic):          2.40e-183\n",
       "Time:                        11:24:17   Log-Likelihood:                -2741.4\n",
       "No. Observations:                 558   AIC:                             5493.\n",
       "Df Residuals:                     553   BIC:                             5514.\n",
       "Df Model:                           4                                         \n",
       "Covariance Type:            nonrobust                                         \n",
       "====================================================================================\n",
       "                       coef    std err          t      P>|t|      [0.025      0.975]\n",
       "------------------------------------------------------------------------------------\n",
       "const               22.0991      4.550      4.857      0.000      13.162      31.037\n",
       "piece_count          0.0906      0.003     33.407      0.000       0.085       0.096\n",
       "min_age             -2.7627      0.696     -3.971      0.000      -4.129      -1.396\n",
       "max_age              0.0501      0.051      0.981      0.327      -0.050       0.150\n",
       "difficulty_level     3.3626      2.064      1.629      0.104      -0.691       7.416\n",
       "==============================================================================\n",
       "Omnibus:                      838.141   Durbin-Watson:                   1.976\n",
       "Prob(Omnibus):                  0.000   Jarque-Bera (JB):           331324.405\n",
       "Skew:                           8.064   Prob(JB):                         0.00\n",
       "Kurtosis:                     121.281   Cond. No.                     2.85e+03\n",
       "==============================================================================\n",
       "\n",
       "Notes:\n",
       "[1] Standard Errors assume that the covariance matrix of the errors is correctly specified.\n",
       "[2] The condition number is large, 2.85e+03. This might indicate that there are\n",
       "strong multicollinearity or other numerical problems.\n",
       "\"\"\""
      ]
     },
     "execution_count": 21,
     "metadata": {},
     "output_type": "execute_result"
    }
   ],
   "source": [
    "# Run this cell without changes\n",
    "\n",
    "import statsmodels.api as sm\n",
    "\n",
    "sm.OLS(y_train, sm.add_constant(X_train_second_model)).fit().summary()"
   ]
  },
  {
   "cell_type": "markdown",
   "metadata": {},
   "source": [
    "A condition number of 10-30 indicates multicollinearity, and a condition number above 30 indicates strong multicollinearity. This print-out shows a condition number of `2.77e+03`, i.e. 2770, which is well above 30.\n",
    "\n",
    "In a predictive context (we are currently trying to build a model to assign prices to future LEGO sets, not a model primarily intended for understanding the relationship between prices and attributes of past LEGO sets), we do not *always* need to be worried when we identify strong multicollinearity. Sometimes there are features that are highly collinear but they also are individually communicating useful information to the model. In this case, however, it seems like strong multicollinearity might be what is causing our second model to have worse performance than the first model."
   ]
  },
  {
   "cell_type": "markdown",
   "metadata": {},
   "source": [
    "### Selecting Features Based on p-values\n",
    "\n",
    "Given that we suspect our model's issues are related to multicollinearity, let's try to narrow down those features. In this case, let's use the p-values assigned to the coefficients of the model.\n",
    "\n",
    "Looking at the model summary above, ***which features are statistically significant, with p-values below 0.05***? (P-values are labeled **P>|t|** in a StatsModels summary.)"
   ]
  },
  {
   "cell_type": "code",
   "execution_count": null,
   "metadata": {},
   "outputs": [],
   "source": [
    "# Replace None with appropriate text\n",
    "\"\"\"\n",
    "piece_count and min_age\n",
    "\"\"\""
   ]
  },
  {
   "cell_type": "markdown",
   "metadata": {},
   "source": [
    "<details>\n",
    "    <summary style=\"cursor: pointer\">Solution (click to reveal)</summary>\n",
    "    <p><code>const</code> (the intercept), <code>piece_count</code>, and <code>min_age</code></p>\n",
    "</details>"
   ]
  },
  {
   "cell_type": "markdown",
   "metadata": {},
   "source": [
    "**Important note:** There are many limitations to using coefficient p-values to select features. See [this StackExchange answer](https://stats.stackexchange.com/a/291239) with examples in R for more details. The suggested alternative in that answer, `glmnet`, is a form of *regularization*, which you will learn about later. Another related technique is *dimensionality reduction*, which will also be covered later. However for now you can proceed using just the p-values technique until the more-advanced techniques have been covered."
   ]
  },
  {
   "cell_type": "markdown",
   "metadata": {},
   "source": [
    "In the cell below, create a list `significant_features` that contains the names of the columns whose features have statistically significant coefficient p-values. You should not include `\"const\"` in that list because `LinearRegression` from scikit-learn automatically adds a constant term and there is no column of `X_train` called `\"const\"`.\n",
    "\n",
    "(You do not need to extract this information programmatically, just write them out like `\"column_name_1\", \"column_name_2\"` etc.)"
   ]
  },
  {
   "cell_type": "code",
   "execution_count": 26,
   "metadata": {},
   "outputs": [],
   "source": [
    "# Replace None with appropriate code\n",
    "significant_features = ['piece_count','min_age']"
   ]
  },
  {
   "cell_type": "markdown",
   "metadata": {},
   "source": [
    "Now let's build a model using those significant features only:"
   ]
  },
  {
   "cell_type": "code",
   "execution_count": 27,
   "metadata": {},
   "outputs": [
    {
     "name": "stdout",
     "output_type": "stream",
     "text": [
      "Current Model\n",
      "Train score:      0.7869252233899845\n",
      "Validation score: 0.7638761794341223\n",
      "\n",
      "Second Model\n",
      "Train score:      0.7884552982196166\n",
      "Validation score: 0.7558203636660551\n",
      "\n",
      "Baseline Model\n",
      "Train score:      0.7785726407224942\n",
      "Validation score: 0.7793473618106956\n"
     ]
    }
   ],
   "source": [
    "# Run this cell without changes\n",
    "third_model = LinearRegression()\n",
    "X_train_third_model = X_train[significant_features]\n",
    "\n",
    "third_model_scores = cross_validate(\n",
    "    estimator=third_model,\n",
    "    X=X_train_third_model,\n",
    "    y=y_train,\n",
    "    return_train_score=True,\n",
    "    cv=splitter\n",
    ")\n",
    "\n",
    "print(\"Current Model\")\n",
    "print(\"Train score:     \", third_model_scores[\"train_score\"].mean())\n",
    "print(\"Validation score:\", third_model_scores[\"test_score\"].mean())\n",
    "print()\n",
    "print(\"Second Model\")\n",
    "print(\"Train score:     \", second_model_scores[\"train_score\"].mean())\n",
    "print(\"Validation score:\", second_model_scores[\"test_score\"].mean())\n",
    "print()\n",
    "print(\"Baseline Model\")\n",
    "print(\"Train score:     \", baseline_scores[\"train_score\"].mean())\n",
    "print(\"Validation score:\", baseline_scores[\"test_score\"].mean())"
   ]
  },
  {
   "cell_type": "markdown",
   "metadata": {},
   "source": [
    "Interpret the results below. What happened when we removed the features with high p-values?"
   ]
  },
  {
   "cell_type": "code",
   "execution_count": null,
   "metadata": {},
   "outputs": [],
   "source": [
    "# Replace None with appropriate text\n",
    "\"\"\"\n",
    "Still, the training model is overfitted on training data, its not good for predicting the\n",
    "future test data\n",
    "\"\"\""
   ]
  },
  {
   "cell_type": "markdown",
   "metadata": {},
   "source": [
    "<details>\n",
    "    <summary style=\"cursor: pointer\">Solution (click to reveal)</summary>\n",
    "    <p>Removing those features led to the best model so far, although the scores are very similar to the baseline</p>\n",
    "</details>"
   ]
  },
  {
   "cell_type": "markdown",
   "metadata": {},
   "source": [
    "### Selecting Features with `sklearn.feature_selection`\n",
    "\n",
    "Let's try a different approach. Scikit-learn has a submodule called `feature_selection` that includes tools to help reduce the feature set.\n",
    "\n",
    "We'll use `RFECV` ([documentation here](https://scikit-learn.org/stable/modules/generated/sklearn.feature_selection.RFECV.html#sklearn.feature_selection.RFECV)). \"RFE\" stands for \"recursive feature elimination\", meaning that it repeatedly scores the model, finds and removes the feature with the lowest \"importance\", then scores the model again. If the new score is better than the previous score, it continues removing features until the minimum is reached. \"CV\" stands for \"cross validation\" here, and we can use the same splitter we have been using to test our data so far."
   ]
  },
  {
   "cell_type": "code",
   "execution_count": 28,
   "metadata": {},
   "outputs": [
    {
     "name": "stdout",
     "output_type": "stream",
     "text": [
      "Was the column selected?\n",
      "piece_count: True\n",
      "min_age: False\n",
      "max_age: False\n",
      "difficulty_level: False\n"
     ]
    }
   ],
   "source": [
    "# Run this cell without changes\n",
    "\n",
    "from sklearn.feature_selection import RFECV\n",
    "from sklearn.preprocessing import StandardScaler\n",
    "\n",
    "# Importances are based on coefficient magnitude, so\n",
    "# we need to scale the data to normalize the coefficients\n",
    "X_train_for_RFECV = StandardScaler().fit_transform(X_train_second_model)\n",
    "\n",
    "model_for_RFECV = LinearRegression()\n",
    "\n",
    "# Instantiate and fit the selector\n",
    "selector = RFECV(model_for_RFECV, cv=splitter)\n",
    "selector.fit(X_train_for_RFECV, y_train)\n",
    "\n",
    "# Print the results\n",
    "print(\"Was the column selected?\")\n",
    "for index, col in enumerate(X_train_second_model.columns):\n",
    "    print(f\"{col}: {selector.support_[index]}\")"
   ]
  },
  {
   "cell_type": "markdown",
   "metadata": {},
   "source": [
    "Interesting. So, this algorithm is saying that our baseline model, with `piece_count` as the only feature, is the best one it could find.\n",
    "\n",
    "However, note that this is based on the \"importances\" of the features, which means the coefficients in the context of a linear regression. It is possible that we can still get a better model by including multiple features, if we try removing columns using a different strategy."
   ]
  },
  {
   "cell_type": "markdown",
   "metadata": {},
   "source": [
    "### A Brute Force Approach\n",
    "\n",
    "Given that we have only four columns and only a few hundred rows, one other option we have is something more computationally expensive: write custom code that goes over multiple different permutations of the columns, to see if we can find something better than the p-values approach or the `RFECV` approach.\n",
    "\n",
    "The code below assumes that we want to keep the `piece_count` column, then attempts a linear regression with all possible combinations of 1-2 additional features. Don't worry too much if you don't understand everything that is happening here — an approach like this should be a last resort and you may not ever need to use it!"
   ]
  },
  {
   "cell_type": "code",
   "execution_count": 29,
   "metadata": {
    "scrolled": true
   },
   "outputs": [
    {
     "data": {
      "text/html": [
       "<div>\n",
       "<style scoped>\n",
       "    .dataframe tbody tr th:only-of-type {\n",
       "        vertical-align: middle;\n",
       "    }\n",
       "\n",
       "    .dataframe tbody tr th {\n",
       "        vertical-align: top;\n",
       "    }\n",
       "\n",
       "    .dataframe thead th {\n",
       "        text-align: right;\n",
       "    }\n",
       "</style>\n",
       "<table border=\"1\" class=\"dataframe\">\n",
       "  <thead>\n",
       "    <tr style=\"text-align: right;\">\n",
       "      <th></th>\n",
       "      <th>piece_count</th>\n",
       "      <th>min_age</th>\n",
       "      <th>max_age</th>\n",
       "      <th>difficulty_level</th>\n",
       "      <th>train_score</th>\n",
       "      <th>val_score</th>\n",
       "    </tr>\n",
       "  </thead>\n",
       "  <tbody>\n",
       "    <tr>\n",
       "      <th>0</th>\n",
       "      <td>Yes</td>\n",
       "      <td>No</td>\n",
       "      <td>No</td>\n",
       "      <td>No</td>\n",
       "      <td>0.778573</td>\n",
       "      <td>0.779347</td>\n",
       "    </tr>\n",
       "    <tr>\n",
       "      <th>1</th>\n",
       "      <td>Yes</td>\n",
       "      <td>Yes</td>\n",
       "      <td>No</td>\n",
       "      <td>No</td>\n",
       "      <td>0.786925</td>\n",
       "      <td>0.763876</td>\n",
       "    </tr>\n",
       "    <tr>\n",
       "      <th>2</th>\n",
       "      <td>Yes</td>\n",
       "      <td>No</td>\n",
       "      <td>Yes</td>\n",
       "      <td>No</td>\n",
       "      <td>0.778837</td>\n",
       "      <td>0.780949</td>\n",
       "    </tr>\n",
       "    <tr>\n",
       "      <th>3</th>\n",
       "      <td>Yes</td>\n",
       "      <td>No</td>\n",
       "      <td>No</td>\n",
       "      <td>Yes</td>\n",
       "      <td>0.778669</td>\n",
       "      <td>0.780662</td>\n",
       "    </tr>\n",
       "    <tr>\n",
       "      <th>4</th>\n",
       "      <td>Yes</td>\n",
       "      <td>Yes</td>\n",
       "      <td>Yes</td>\n",
       "      <td>No</td>\n",
       "      <td>0.788011</td>\n",
       "      <td>0.751768</td>\n",
       "    </tr>\n",
       "    <tr>\n",
       "      <th>5</th>\n",
       "      <td>Yes</td>\n",
       "      <td>Yes</td>\n",
       "      <td>No</td>\n",
       "      <td>Yes</td>\n",
       "      <td>0.787145</td>\n",
       "      <td>0.767399</td>\n",
       "    </tr>\n",
       "    <tr>\n",
       "      <th>6</th>\n",
       "      <td>Yes</td>\n",
       "      <td>No</td>\n",
       "      <td>Yes</td>\n",
       "      <td>Yes</td>\n",
       "      <td>0.778920</td>\n",
       "      <td>0.781578</td>\n",
       "    </tr>\n",
       "    <tr>\n",
       "      <th>7</th>\n",
       "      <td>Yes</td>\n",
       "      <td>Yes</td>\n",
       "      <td>Yes</td>\n",
       "      <td>Yes</td>\n",
       "      <td>0.788455</td>\n",
       "      <td>0.755820</td>\n",
       "    </tr>\n",
       "  </tbody>\n",
       "</table>\n",
       "</div>"
      ],
      "text/plain": [
       "  piece_count min_age max_age difficulty_level  train_score  val_score\n",
       "0         Yes      No      No               No     0.778573   0.779347\n",
       "1         Yes     Yes      No               No     0.786925   0.763876\n",
       "2         Yes      No     Yes               No     0.778837   0.780949\n",
       "3         Yes      No      No              Yes     0.778669   0.780662\n",
       "4         Yes     Yes     Yes               No     0.788011   0.751768\n",
       "5         Yes     Yes      No              Yes     0.787145   0.767399\n",
       "6         Yes      No     Yes              Yes     0.778920   0.781578\n",
       "7         Yes     Yes     Yes              Yes     0.788455   0.755820"
      ]
     },
     "execution_count": 29,
     "metadata": {},
     "output_type": "execute_result"
    }
   ],
   "source": [
    "# Run this cell without changes\n",
    "\n",
    "from itertools import combinations\n",
    "\n",
    "features = [\"piece_count\", \"min_age\", \"max_age\", \"difficulty_level\"]\n",
    "\n",
    "# Make a dataframe to hold the results (not strictly necessary\n",
    "# but it makes the output easier to read)\n",
    "results_df = pd.DataFrame(columns=features)\n",
    "\n",
    "# Selecting just piece_count\n",
    "results_df = results_df.append({\n",
    "    \"train_score\": baseline_scores[\"train_score\"].mean(),\n",
    "    \"val_score\": baseline_scores[\"test_score\"].mean()\n",
    "}, ignore_index=True)\n",
    "\n",
    "# Selecting 1 additional feature\n",
    "for feature in features[1:]:\n",
    "    scores = cross_validate(\n",
    "        estimator=second_model,\n",
    "        X=X_train[[\"piece_count\", feature]],\n",
    "        y=y_train,\n",
    "        return_train_score=True,\n",
    "        cv=splitter\n",
    "    )\n",
    "    # Note: this technique of appending to a df is quite inefficient\n",
    "    # Here it works because it's only happening 6 times, but avoid\n",
    "    # doing this for a whole dataset\n",
    "    results_df = results_df.append({\n",
    "        feature: \"Yes\",\n",
    "        \"train_score\": scores[\"train_score\"].mean(),\n",
    "        \"val_score\": scores[\"test_score\"].mean()\n",
    "    }, ignore_index=True)\n",
    "    \n",
    "# Selecting 2 additional features\n",
    "for (feature1, feature2) in list(combinations(features[1:], 2)):\n",
    "    scores = cross_validate(\n",
    "        estimator=second_model,\n",
    "        X=X_train[[\"piece_count\", feature1, feature2]],\n",
    "        y=y_train,\n",
    "        return_train_score=True,\n",
    "        cv=splitter\n",
    "    )\n",
    "    results_df = results_df.append({\n",
    "        feature1: \"Yes\",\n",
    "        feature2: \"Yes\",\n",
    "        \"train_score\": scores[\"train_score\"].mean(),\n",
    "        \"val_score\": scores[\"test_score\"].mean()\n",
    "    }, ignore_index=True)\n",
    "    \n",
    "# Including all 3 additional features\n",
    "results_df = results_df.append({\n",
    "    \"min_age\": \"Yes\", \"max_age\": \"Yes\", \"difficulty_level\": \"Yes\",\n",
    "    \"train_score\": second_model_scores[\"train_score\"].mean(),\n",
    "    \"val_score\": second_model_scores[\"test_score\"].mean()\n",
    "}, ignore_index=True)\n",
    "\n",
    "# Fill in remaining values where appropriate\n",
    "results_df[\"piece_count\"] = \"Yes\"\n",
    "results_df.fillna(\"No\", inplace=True)\n",
    "\n",
    "results_df"
   ]
  },
  {
   "cell_type": "markdown",
   "metadata": {},
   "source": [
    "Interpret the table above. It shows both training and validation scores for `piece_count` as well as all combinations of 0, 1, 2, or 3 other features.\n",
    "\n",
    "Which features make the best model? Which make the worst? How does this align with the previous discussion of multicollinearity? And how much does feature selection seem to matter in general for this dataset + model algorithm, once we have identified the most correlated feature for the baseline?"
   ]
  },
  {
   "cell_type": "code",
   "execution_count": null,
   "metadata": {},
   "outputs": [],
   "source": [
    "# Replace None with appropriate text\n",
    "\"\"\"\n",
    "The best model- piece_count, max_age, and difficulty_level. It has a validation score of 0.781578\n",
    "\n",
    "The worst model -piece_count, min_age, and max_age. It has a validation score of 0.751768\n",
    "\n",
    "It seems that as long as we use piece_count, the validation scores do not change much even with change of the other features\n",
    "\"\"\""
   ]
  },
  {
   "cell_type": "markdown",
   "metadata": {},
   "source": [
    "<details>\n",
    "    <summary style=\"cursor: pointer\">Solution (click to reveal)</summary>\n",
    "    <p>The best model uses <code>piece_count</code>, <code>max_age</code>, and <code>difficulty_level</code>. It has a validation score of 0.781578</p>\n",
    "    <p>The worst model uses <code>piece_count</code>, <code>min_age</code>, and <code>max_age</code>. It has a validation score of 0.751768</p>\n",
    "    <p>This makes sense if we think that <code>min_age</code> and <code>max_age</code> are mostly providing the same information, and that the difference is mainly noise (leading to overfitting), that the best model would only have one of them</p>\n",
    "    <p>Overall, feature selection does not seem to matter very much for this dataset + linear regression. So long as we use our most correlated feature (<code>piece_count</code>), the validation score doesn't change very much, regardless of which other features are included.</p>\n",
    "</details>"
   ]
  },
  {
   "cell_type": "markdown",
   "metadata": {},
   "source": [
    "## 4. Build and Evaluate a Final Predictive Model\n",
    "\n",
    "In the cell below, create a list `best_features` which contains the names of the best model features based on the findings of the previous step:"
   ]
  },
  {
   "cell_type": "code",
   "execution_count": 30,
   "metadata": {},
   "outputs": [],
   "source": [
    "# Replace None with appropriate code\n",
    "best_features = [\"piece_count\", \"max_age\", \"difficulty_level\"]"
   ]
  },
  {
   "cell_type": "markdown",
   "metadata": {},
   "source": [
    "Now, we prepare the data for modeling:"
   ]
  },
  {
   "cell_type": "code",
   "execution_count": 31,
   "metadata": {},
   "outputs": [],
   "source": [
    "# Run this cell without changes\n",
    "X_train_final = X_train[best_features]\n",
    "X_test_final = X_test[best_features]"
   ]
  },
  {
   "cell_type": "markdown",
   "metadata": {},
   "source": [
    "In the cell below, instantiate a `LinearRegression` model called `final_model`, then fit it on the training data and score it on the test data."
   ]
  },
  {
   "cell_type": "code",
   "execution_count": 32,
   "metadata": {},
   "outputs": [
    {
     "data": {
      "text/plain": [
       "0.6542913715071494"
      ]
     },
     "execution_count": 32,
     "metadata": {},
     "output_type": "execute_result"
    }
   ],
   "source": [
    "# Replace None with appropriate code\n",
    "\n",
    "final_model = LinearRegression()\n",
    "\n",
    "# Fit the model on X_train_final and y_train\n",
    "final_model.fit(X_train_final, y_train)\n",
    "\n",
    "# Score the model on X_test_final and y_test\n",
    "# (use the built-in .score method)\n",
    "final_model.score(X_test_final, y_test)"
   ]
  },
  {
   "cell_type": "markdown",
   "metadata": {},
   "source": [
    "### User-Friendly Metrics\n",
    "\n",
    "The score above is an r-squared score. Let's compute the RMSE as well, since this would be more applicable to a business audience."
   ]
  },
  {
   "cell_type": "code",
   "execution_count": 33,
   "metadata": {},
   "outputs": [
    {
     "data": {
      "text/plain": [
       "47.40368797433299"
      ]
     },
     "execution_count": 33,
     "metadata": {},
     "output_type": "execute_result"
    }
   ],
   "source": [
    "# Run this cell without changes\n",
    "from sklearn.metrics import mean_squared_error\n",
    "\n",
    "mean_squared_error(y_test, final_model.predict(X_test_final), squared=False)"
   ]
  },
  {
   "cell_type": "markdown",
   "metadata": {},
   "source": [
    "What does this value mean in the current business context?"
   ]
  },
  {
   "cell_type": "code",
   "execution_count": null,
   "metadata": {},
   "outputs": [],
   "source": [
    "# Replace None with appropriate text\n",
    "\"\"\"\n",
    "Uisng this model, the list_price will be off by about 47. The cost of most lego sets\n",
    "is less than 100 so that is a huge difference and so the model is not good to \n",
    "predict the right future prices\n",
    "\"\"\""
   ]
  },
  {
   "cell_type": "markdown",
   "metadata": {},
   "source": [
    "<details>\n",
    "    <summary style=\"cursor: pointer\">Solution (click to reveal)</summary>\n",
    "    <p>This means that for an average LEGO set, this algorithm will be off by about $47. Given that most LEGO sets sell for less than $100, we would definitely want to have a human double-check and adjust these prices rather than just allowing the algorithm to set them</p>\n",
    "</details>"
   ]
  },
  {
   "cell_type": "markdown",
   "metadata": {},
   "source": [
    "## 5. Interpret the Final Model\n",
    "\n",
    "Below, we display the coefficients and intercept for the final model:"
   ]
  },
  {
   "cell_type": "code",
   "execution_count": 34,
   "metadata": {},
   "outputs": [
    {
     "name": "stdout",
     "output_type": "stream",
     "text": [
      "piece_count         0.085633\n",
      "max_age            -0.043271\n",
      "difficulty_level    2.044057\n",
      "Name: Coefficients, dtype: float64\n",
      "\n",
      "Intercept: 9.68084511198424\n"
     ]
    }
   ],
   "source": [
    "# Run this cell without changes\n",
    "print(pd.Series(final_model.coef_, index=X_train_final.columns, name=\"Coefficients\"))\n",
    "print()\n",
    "print(\"Intercept:\", final_model.intercept_)"
   ]
  },
  {
   "cell_type": "markdown",
   "metadata": {},
   "source": [
    "Interpret these values below. What is the pricing algorithm you have developed?"
   ]
  },
  {
   "cell_type": "code",
   "execution_count": null,
   "metadata": {},
   "outputs": [],
   "source": [
    "# Replace None with appropriate text\n",
    "\"\"\"\n",
    "The base price is 9.68. Any additional piece of lego in the set make the price rise\n",
    "by 0.09. An increase of maximim age by 1 decreases price by 0.04. An increase\n",
    "of difficulty level increases price by 2.04\n",
    "\"\"\""
   ]
  },
  {
   "cell_type": "markdown",
   "metadata": {},
   "source": [
    "<details>\n",
    "    <summary style=\"cursor: pointer\">Solution (click to reveal)</summary>\n",
    "    <p>According to our model, the base price for a LEGO set (the model intercept) is about $9.68. Then for each additional LEGO piece in the set, the price goes up by $0.09 per piece. For every year higher that the maximum age is, the price goes down by about $0.04. Then finally for every increase of 1 in the difficulty level, the price goes up by about $2.04.</p>\n",
    "</details>"
   ]
  },
  {
   "cell_type": "markdown",
   "metadata": {},
   "source": [
    "Before assuming that these coefficients give us inferential insight into past pricing decisions, we should investigate each of the assumptions of linear regression, in order to understand how much our model violates them."
   ]
  },
  {
   "cell_type": "markdown",
   "metadata": {},
   "source": [
    "### Investigating Linearity\n",
    "\n",
    "First, let's check whether the linearity assumption holds."
   ]
  },
  {
   "cell_type": "code",
   "execution_count": 35,
   "metadata": {},
   "outputs": [
    {
     "data": {
      "image/png": "[encoded data removed]",
      "text/plain": [
       "<Figure size 432x288 with 1 Axes>"
      ]
     },
     "metadata": {
      "needs_background": "light"
     },
     "output_type": "display_data"
    }
   ],
   "source": [
    "# Run this cell without changes\n",
    "\n",
    "preds = final_model.predict(X_test_final)\n",
    "fig, ax = plt.subplots()\n",
    "\n",
    "perfect_line = np.arange(y_test.min(), y_test.max())\n",
    "ax.plot(perfect_line, linestyle=\"--\", color=\"orange\", label=\"Perfect Fit\")\n",
    "ax.scatter(y_test, preds, alpha=0.5)\n",
    "ax.set_xlabel(\"Actual Price\")\n",
    "ax.set_ylabel(\"Predicted Price\")\n",
    "ax.legend();"
   ]
  },
  {
   "cell_type": "markdown",
   "metadata": {},
   "source": [
    "Are we violating the linearity assumption?"
   ]
  },
  {
   "cell_type": "code",
   "execution_count": null,
   "metadata": {},
   "outputs": [],
   "source": [
    "# Replace None with appropriate text\n",
    "\"\"\"\n",
    "It looks like there is a linear relationship though there are sevarl oultiers\n",
    "\"\"\""
   ]
  },
  {
   "cell_type": "markdown",
   "metadata": {},
   "source": [
    "<details>\n",
    "    <summary style=\"cursor: pointer\">Solution (click to reveal)</summary>\n",
    "    <p>We have some outliers that are all over the place, but in general it looks like we have a linear relationship (not violating this assumption)</p>\n",
    "</details>"
   ]
  },
  {
   "cell_type": "markdown",
   "metadata": {},
   "source": [
    "### Investigating Normality\n",
    "\n",
    "Now let's check whether the normality assumption holds for our model."
   ]
  },
  {
   "cell_type": "code",
   "execution_count": 36,
   "metadata": {},
   "outputs": [
    {
     "name": "stderr",
     "output_type": "stream",
     "text": [
      "C:\\Users\\charityg\\anaconda3\\lib\\site-packages\\statsmodels\\graphics\\gofplots.py:993: UserWarning: marker is redundantly defined by the 'marker' keyword argument and the fmt string \"bo\" (-> marker='o'). The keyword argument will take precedence.\n",
      "  ax.plot(x, y, fmt, **plot_style)\n"
     ]
    },
    {
     "data": {
      "image/png": "[encoded data removed]",
      "text/plain": [
       "<Figure size 432x288 with 1 Axes>"
      ]
     },
     "metadata": {
      "needs_background": "light"
     },
     "output_type": "display_data"
    }
   ],
   "source": [
    "# Run this code without changes\n",
    "import scipy.stats as stats\n",
    "\n",
    "residuals = (y_test - preds)\n",
    "sm.graphics.qqplot(residuals, dist=stats.norm, line='45', fit=True);"
   ]
  },
  {
   "cell_type": "markdown",
   "metadata": {},
   "source": [
    "Are we violating the normality assumption?"
   ]
  },
  {
   "cell_type": "code",
   "execution_count": null,
   "metadata": {},
   "outputs": [],
   "source": [
    "# Replace None with appropriate text\n",
    "\"\"\"\n",
    "This doesn't look like residuals are normally distributed\n",
    "\"\"\""
   ]
  },
  {
   "cell_type": "markdown",
   "metadata": {},
   "source": [
    "<details>\n",
    "    <summary style=\"cursor: pointer\">Solution (click to reveal)</summary>\n",
    "    <p>Our outliers are again causing problems. This is bad enough that we can probably say that we are violating the normality assumption</p>\n",
    "</details>"
   ]
  },
  {
   "cell_type": "markdown",
   "metadata": {},
   "source": [
    "### Investigating Multicollinearity (Independence Assumption)\n",
    "\n",
    "Another way to measure multicollinearity is with [variance inflation factor](https://en.wikipedia.org/wiki/Variance_inflation_factor) ([StatsModels documentation here](https://www.statsmodels.org/stable/generated/statsmodels.stats.outliers_influence.variance_inflation_factor.html#statsmodels.stats.outliers_influence.variance_inflation_factor)). A \"rule of thumb\" for VIF is that 5 is too high (i.e. strong multicollinearity).\n",
    "\n",
    "Run the code below to find the VIF for each feature."
   ]
  },
  {
   "cell_type": "code",
   "execution_count": 37,
   "metadata": {},
   "outputs": [
    {
     "data": {
      "text/plain": [
       "piece_count         1.923641\n",
       "max_age             1.689177\n",
       "difficulty_level    1.965106\n",
       "Name: Variance Inflation Factor, dtype: float64"
      ]
     },
     "execution_count": 37,
     "metadata": {},
     "output_type": "execute_result"
    }
   ],
   "source": [
    "# Run this cell without changes\n",
    "from statsmodels.stats.outliers_influence import variance_inflation_factor\n",
    "vif = [variance_inflation_factor(X_train_final.values, i) for i in range(X_train_final.shape[1])]\n",
    "pd.Series(vif, index=X_train_final.columns, name=\"Variance Inflation Factor\")"
   ]
  },
  {
   "cell_type": "markdown",
   "metadata": {},
   "source": [
    "Do we have too high of multicollinearity?"
   ]
  },
  {
   "cell_type": "code",
   "execution_count": null,
   "metadata": {},
   "outputs": [],
   "source": [
    "# Replace None with appropriate text\n",
    "\"\"\"\n",
    "All of them are below 5, so no strong multicollinearity\n",
    "\"\"\""
   ]
  },
  {
   "cell_type": "markdown",
   "metadata": {},
   "source": [
    "<details>\n",
    "    <summary style=\"cursor: pointer\">Solution (click to reveal)</summary>\n",
    "    <p>We are below 5 for all features in the final model, so we don't have too high of multicollinearity</p>\n",
    "</details>"
   ]
  },
  {
   "cell_type": "markdown",
   "metadata": {},
   "source": [
    "### Investigating Homoscedasticity\n",
    "\n",
    "Now let's check whether the model's errors are indeed homoscedastic or if they violate this principle and display heteroscedasticity."
   ]
  },
  {
   "cell_type": "code",
   "execution_count": 38,
   "metadata": {},
   "outputs": [
    {
     "data": {
      "image/png": "[encoded data removed]",
      "text/plain": [
       "<Figure size 432x288 with 1 Axes>"
      ]
     },
     "metadata": {
      "needs_background": "light"
     },
     "output_type": "display_data"
    }
   ],
   "source": [
    "# Run this cell without changes\n",
    "fig, ax = plt.subplots()\n",
    "\n",
    "ax.scatter(preds, residuals, alpha=0.5)\n",
    "ax.plot(preds, [0 for i in range(len(X_test))])\n",
    "ax.set_xlabel(\"Predicted Value\")\n",
    "ax.set_ylabel(\"Actual - Predicted Value\");"
   ]
  },
  {
   "cell_type": "markdown",
   "metadata": {},
   "source": [
    "Are we violating the homoscedasticity assumption?"
   ]
  },
  {
   "cell_type": "code",
   "execution_count": null,
   "metadata": {},
   "outputs": [],
   "source": [
    "# Replace None with appropriate text\n",
    "\"\"\"\n",
    "There seems to be some king of a funnel shape, thus the model could be violating homoscedasticity\n",
    "\"\"\""
   ]
  },
  {
   "cell_type": "markdown",
   "metadata": {},
   "source": [
    "<details>\n",
    "    <summary style=\"cursor: pointer\">Solution (click to reveal)</summary>\n",
    "    <p>This is not the worst \"funnel\" shape, although the residuals do seem to differ some based on the predicted price. We are probably violating a strict definition of homoscedasticity.</p>\n",
    "</details>"
   ]
  },
  {
   "cell_type": "markdown",
   "metadata": {},
   "source": [
    "### Linear Regression Assumptions Conclusion\n",
    "\n",
    "Given your answers above, how should we interpret our model's coefficients? Do we have a model that can be used for inferential as well as predictive purposes? What might your next steps be?"
   ]
  },
  {
   "cell_type": "markdown",
   "metadata": {},
   "source": [
    "<details>\n",
    "    <summary style=\"cursor: pointer\">Solution (click to reveal)</summary>\n",
    "    <p>Our confidence in these coefficients should not be too high, since we are violating or close to violating more than one of the assumptions of linear regression. This really only should be used for predictive purposes.</p>\n",
    "    <p>A good next step here would be to start trying to figure out why our outliers behave the way they do. Maybe there is some information we could extract from the text features that are currently not part of the model</p>\n",
    "</details>"
   ]
  },
  {
   "cell_type": "markdown",
   "metadata": {},
   "source": [
    "## Summary"
   ]
  },
  {
   "cell_type": "markdown",
   "metadata": {},
   "source": [
    "Well done! As you can see, regression can be a challenging task that requires you to make decisions along the way, try alternative approaches, and make ongoing refinements."
   ]
  }
 ],
 "metadata": {
  "kernelspec": {
   "display_name": "Python 3 (ipykernel)",
   "language": "python",
   "name": "python3"
  },
  "language_info": {
   "codemirror_mode": {
    "name": "ipython",
    "version": 3
   },
   "file_extension": ".py",
   "mimetype": "text/x-python",
   "name": "python",
   "nbconvert_exporter": "python",
   "pygments_lexer": "ipython3",
   "version": "3.9.7"
  }
 },
 "nbformat": 4,
 "nbformat_minor": 2
}
